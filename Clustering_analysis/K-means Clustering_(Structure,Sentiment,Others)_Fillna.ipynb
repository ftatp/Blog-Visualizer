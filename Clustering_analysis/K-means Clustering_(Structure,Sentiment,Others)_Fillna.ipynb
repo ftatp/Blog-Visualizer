{
 "cells": [
  {
   "cell_type": "code",
   "execution_count": 22,
   "metadata": {},
   "outputs": [],
   "source": [
    "import pandas as pd\n",
    "import numpy as np\n",
    "import matplotlib.pyplot as plt"
   ]
  },
  {
   "cell_type": "code",
   "execution_count": 23,
   "metadata": {},
   "outputs": [],
   "source": [
    "df = pd.read_csv('[Final]Total_csv.csv',sep='\\t')"
   ]
  },
  {
   "cell_type": "code",
   "execution_count": 24,
   "metadata": {},
   "outputs": [],
   "source": [
    "best_df = df[['Question_count','First_ratio','Second_ratio','Tag_count','pos_ratio',\n",
    " 'neg_ratio','subjectivity','polarity','senti_diffs_per_ref','Sticker_count','Text_len','Count_space_mistake',\n",
    "   'effort_ratio','effort_img_ratio','Left','Center','Right','Justify',\n",
    "   'img img img img img','img img img img text','img img img text img','img img text img img','img img text img text',\n",
    " 'img text img img img','img text img img text','img text img text img','text img img img img','text img img img text',\n",
    " 'text img img text img','text img text img img','text img text img text','Credibility']]\n",
    "best_df = best_df.dropna()"
   ]
  },
  {
   "cell_type": "code",
   "execution_count": 25,
   "metadata": {},
   "outputs": [],
   "source": [
    "from sklearn.utils import shuffle\n",
    "best_df = shuffle(best_df)"
   ]
  },
  {
   "cell_type": "code",
   "execution_count": 26,
   "metadata": {},
   "outputs": [],
   "source": [
    "Credibility = best_df[best_df['Credibility']==1]\n",
    "Non_credibility = best_df[best_df['Credibility']==0]"
   ]
  },
  {
   "cell_type": "markdown",
   "metadata": {},
   "source": [
    "# Credibility data shuffle"
   ]
  },
  {
   "cell_type": "code",
   "execution_count": 27,
   "metadata": {},
   "outputs": [],
   "source": [
    "from sklearn.utils import shuffle\n",
    "Credibility = shuffle(Credibility)\n",
    "#Credibility = Credibility.iloc[:6289]"
   ]
  },
  {
   "cell_type": "code",
   "execution_count": 28,
   "metadata": {},
   "outputs": [
    {
     "data": {
      "text/plain": [
       "(6289, 32)"
      ]
     },
     "execution_count": 28,
     "metadata": {},
     "output_type": "execute_result"
    }
   ],
   "source": [
    "Credibility.shape\n",
    "Non_credibility.shape"
   ]
  },
  {
   "cell_type": "code",
   "execution_count": 29,
   "metadata": {},
   "outputs": [],
   "source": [
    "merge_df = pd.concat([Credibility,Non_credibility])"
   ]
  },
  {
   "cell_type": "code",
   "execution_count": 30,
   "metadata": {},
   "outputs": [
    {
     "data": {
      "text/plain": [
       "Credibility\n",
       "0    6289\n",
       "1    9924\n",
       "Name: Credibility, dtype: int64"
      ]
     },
     "execution_count": 30,
     "metadata": {},
     "output_type": "execute_result"
    }
   ],
   "source": [
    "merge_df.groupby(['Credibility'])['Credibility'].count()"
   ]
  },
  {
   "cell_type": "code",
   "execution_count": 31,
   "metadata": {},
   "outputs": [],
   "source": [
    "from sklearn.utils import shuffle\n",
    "merge_df = shuffle(merge_df)"
   ]
  },
  {
   "cell_type": "markdown",
   "metadata": {},
   "source": [
    "# Fill na"
   ]
  },
  {
   "cell_type": "code",
   "execution_count": 32,
   "metadata": {},
   "outputs": [],
   "source": [
    "merge_df = merge_df.fillna(0)"
   ]
  },
  {
   "cell_type": "markdown",
   "metadata": {},
   "source": [
    "# x, y selection"
   ]
  },
  {
   "cell_type": "code",
   "execution_count": 33,
   "metadata": {},
   "outputs": [],
   "source": [
    "x = merge_df.drop(columns=['Credibility'])\n",
    "y = merge_df[['Credibility']]"
   ]
  },
  {
   "cell_type": "code",
   "execution_count": 34,
   "metadata": {},
   "outputs": [],
   "source": [
    "x = x.reset_index(drop=True)\n",
    "y = y.reset_index(drop=True)"
   ]
  },
  {
   "cell_type": "markdown",
   "metadata": {},
   "source": [
    "# K-means Clustering"
   ]
  },
  {
   "cell_type": "code",
   "execution_count": 35,
   "metadata": {},
   "outputs": [],
   "source": [
    "from sklearn.pipeline import make_pipeline\n",
    "from sklearn.preprocessing import StandardScaler\n",
    "from sklearn.cluster import KMeans\n",
    "\n",
    "scaler = StandardScaler()\n",
    "model = KMeans(n_clusters=5)\n",
    "pipeline = make_pipeline(scaler,model)\n",
    "pipeline.fit(x)\n",
    "predict = pd.DataFrame(pipeline.predict(x))"
   ]
  },
  {
   "cell_type": "code",
   "execution_count": 36,
   "metadata": {},
   "outputs": [],
   "source": [
    "import pickle\n",
    "with open(\"5-means(0,1,2,3).pkl\",\"wb\") as handle:\n",
    "    pickle.dump(pipeline,handle)\n",
    "    \n",
    "#load the content\n",
    "# pipeline = pickle.load(open(\"5-means(0,1,2,3).pkl\", \"rb\" ) )"
   ]
  },
  {
   "cell_type": "code",
   "execution_count": 37,
   "metadata": {},
   "outputs": [],
   "source": [
    "predict.columns = ['predict']"
   ]
  },
  {
   "cell_type": "code",
   "execution_count": 38,
   "metadata": {},
   "outputs": [],
   "source": [
    "y = y.reset_index(drop=True)"
   ]
  },
  {
   "cell_type": "code",
   "execution_count": 39,
   "metadata": {},
   "outputs": [],
   "source": [
    "ct = pd.crosstab(y['Credibility'],predict['predict'])"
   ]
  },
  {
   "cell_type": "code",
   "execution_count": 40,
   "metadata": {},
   "outputs": [],
   "source": [
    "ct.loc['total'] = ct.select_dtypes(pd.np.number).sum()"
   ]
  },
  {
   "cell_type": "code",
   "execution_count": 41,
   "metadata": {},
   "outputs": [
    {
     "data": {
      "text/html": [
       "<div>\n",
       "<style scoped>\n",
       "    .dataframe tbody tr th:only-of-type {\n",
       "        vertical-align: middle;\n",
       "    }\n",
       "\n",
       "    .dataframe tbody tr th {\n",
       "        vertical-align: top;\n",
       "    }\n",
       "\n",
       "    .dataframe thead th {\n",
       "        text-align: right;\n",
       "    }\n",
       "</style>\n",
       "<table border=\"1\" class=\"dataframe\">\n",
       "  <thead>\n",
       "    <tr style=\"text-align: right;\">\n",
       "      <th>predict</th>\n",
       "      <th>0</th>\n",
       "      <th>1</th>\n",
       "      <th>2</th>\n",
       "      <th>3</th>\n",
       "      <th>4</th>\n",
       "    </tr>\n",
       "    <tr>\n",
       "      <th>Credibility</th>\n",
       "      <th></th>\n",
       "      <th></th>\n",
       "      <th></th>\n",
       "      <th></th>\n",
       "      <th></th>\n",
       "    </tr>\n",
       "  </thead>\n",
       "  <tbody>\n",
       "    <tr>\n",
       "      <th>0</th>\n",
       "      <td>1107</td>\n",
       "      <td>4555</td>\n",
       "      <td>49</td>\n",
       "      <td>212</td>\n",
       "      <td>366</td>\n",
       "    </tr>\n",
       "    <tr>\n",
       "      <th>1</th>\n",
       "      <td>1419</td>\n",
       "      <td>4113</td>\n",
       "      <td>2206</td>\n",
       "      <td>1003</td>\n",
       "      <td>1183</td>\n",
       "    </tr>\n",
       "    <tr>\n",
       "      <th>total</th>\n",
       "      <td>2526</td>\n",
       "      <td>8668</td>\n",
       "      <td>2255</td>\n",
       "      <td>1215</td>\n",
       "      <td>1549</td>\n",
       "    </tr>\n",
       "  </tbody>\n",
       "</table>\n",
       "</div>"
      ],
      "text/plain": [
       "predict         0     1     2     3     4\n",
       "Credibility                              \n",
       "0            1107  4555    49   212   366\n",
       "1            1419  4113  2206  1003  1183\n",
       "total        2526  8668  2255  1215  1549"
      ]
     },
     "execution_count": 41,
     "metadata": {},
     "output_type": "execute_result"
    }
   ],
   "source": [
    "ct"
   ]
  },
  {
   "cell_type": "code",
   "execution_count": 42,
   "metadata": {},
   "outputs": [
    {
     "data": {
      "text/html": [
       "<div>\n",
       "<style scoped>\n",
       "    .dataframe tbody tr th:only-of-type {\n",
       "        vertical-align: middle;\n",
       "    }\n",
       "\n",
       "    .dataframe tbody tr th {\n",
       "        vertical-align: top;\n",
       "    }\n",
       "\n",
       "    .dataframe thead th {\n",
       "        text-align: right;\n",
       "    }\n",
       "</style>\n",
       "<table border=\"1\" class=\"dataframe\">\n",
       "  <thead>\n",
       "    <tr style=\"text-align: right;\">\n",
       "      <th>predict</th>\n",
       "      <th>0</th>\n",
       "      <th>1</th>\n",
       "      <th>2</th>\n",
       "      <th>3</th>\n",
       "      <th>4</th>\n",
       "    </tr>\n",
       "    <tr>\n",
       "      <th>Credibility</th>\n",
       "      <th></th>\n",
       "      <th></th>\n",
       "      <th></th>\n",
       "      <th></th>\n",
       "      <th></th>\n",
       "    </tr>\n",
       "  </thead>\n",
       "  <tbody>\n",
       "    <tr>\n",
       "      <th>0</th>\n",
       "      <td>0.438242</td>\n",
       "      <td>0.525496</td>\n",
       "      <td>0.021729</td>\n",
       "      <td>0.174486</td>\n",
       "      <td>0.236281</td>\n",
       "    </tr>\n",
       "    <tr>\n",
       "      <th>1</th>\n",
       "      <td>0.561758</td>\n",
       "      <td>0.474504</td>\n",
       "      <td>0.978271</td>\n",
       "      <td>0.825514</td>\n",
       "      <td>0.763719</td>\n",
       "    </tr>\n",
       "    <tr>\n",
       "      <th>total</th>\n",
       "      <td>2526.000000</td>\n",
       "      <td>8668.000000</td>\n",
       "      <td>2255.000000</td>\n",
       "      <td>1215.000000</td>\n",
       "      <td>1549.000000</td>\n",
       "    </tr>\n",
       "  </tbody>\n",
       "</table>\n",
       "</div>"
      ],
      "text/plain": [
       "predict                0            1            2            3            4\n",
       "Credibility                                                                 \n",
       "0               0.438242     0.525496     0.021729     0.174486     0.236281\n",
       "1               0.561758     0.474504     0.978271     0.825514     0.763719\n",
       "total        2526.000000  8668.000000  2255.000000  1215.000000  1549.000000"
      ]
     },
     "execution_count": 42,
     "metadata": {},
     "output_type": "execute_result"
    }
   ],
   "source": [
    "ct.iloc [0] = ct.iloc[0] / ct.iloc[2]\n",
    "ct.iloc [1] = ct.iloc[1] / ct.iloc[2]\n",
    "ct"
   ]
  },
  {
   "cell_type": "code",
   "execution_count": 21,
   "metadata": {},
   "outputs": [
    {
     "data": {
      "image/png": "[encoded data removed]",
      "text/plain": [
       "<Figure size 432x288 with 1 Axes>"
      ]
     },
     "metadata": {},
     "output_type": "display_data"
    }
   ],
   "source": [
    "ks = range(1,30)\n",
    "\n",
    "inertias = []\n",
    "\n",
    "for k in ks:\n",
    "    model = KMeans(n_clusters=k)\n",
    "    model.fit(x)\n",
    "    inertias.append(model.inertia_)\n",
    "\n",
    "# Plot ks vs inertias\n",
    "plt.plot(ks, inertias, '-o')\n",
    "plt.xlabel('number of clusters, k')\n",
    "plt.ylabel('inertia')\n",
    "plt.xticks(ks)\n",
    "plt.show()"
   ]
  },
  {
   "cell_type": "markdown",
   "metadata": {},
   "source": [
    "# 각 Group 비교하기"
   ]
  },
  {
   "cell_type": "markdown",
   "metadata": {},
   "source": [
    "## Standard scaler"
   ]
  },
  {
   "cell_type": "code",
   "execution_count": 22,
   "metadata": {},
   "outputs": [],
   "source": [
    "col_name = x.columns.tolist()\n",
    "from sklearn.preprocessing import StandardScaler\n",
    "scaler = StandardScaler()\n",
    "scaler.fit(x)\n",
    "scaled_x = scaler.transform(x)\n",
    "scaled_x_df = pd.DataFrame(scaled_x)\n",
    "scaled_x_df.columns = col_name"
   ]
  },
  {
   "cell_type": "code",
   "execution_count": 23,
   "metadata": {},
   "outputs": [],
   "source": [
    "scaled_x_structure = scaled_x_df[['img img img img img',\n",
    " 'img img img img text',\n",
    " 'img img img text img',\n",
    " 'img img text img img',\n",
    " 'img img text img text',\n",
    " 'img text img img img',\n",
    " 'img text img img text',\n",
    " 'img text img text img',\n",
    " 'text img img img img',\n",
    " 'text img img img text',\n",
    " 'text img img text img',\n",
    " 'text img text img img',\n",
    " 'text img text img text']]"
   ]
  },
  {
   "cell_type": "code",
   "execution_count": 24,
   "metadata": {},
   "outputs": [],
   "source": [
    "df_analysis = pd.concat([scaled_x_structure,predict,y],axis=1)"
   ]
  },
  {
   "cell_type": "code",
   "execution_count": 25,
   "metadata": {},
   "outputs": [],
   "source": [
    "df_0 = df_analysis[df_analysis['predict']==0]\n",
    "df_1 = df_analysis[df_analysis['predict']==1]\n",
    "df_2 = df_analysis[df_analysis['predict']==2]\n",
    "df_3 = df_analysis[df_analysis['predict']==3]\n",
    "df_4 = df_analysis[df_analysis['predict']==4]"
   ]
  },
  {
   "cell_type": "code",
   "execution_count": 26,
   "metadata": {},
   "outputs": [],
   "source": [
    "df_0 = df_0.drop(columns=['Credibility','predict'])\n",
    "df_1 = df_1.drop(columns=['Credibility','predict'])\n",
    "df_2 = df_2.drop(columns=['Credibility','predict'])\n",
    "df_3 = df_3.drop(columns=['Credibility','predict'])\n",
    "df_4 = df_4.drop(columns=['Credibility','predict'])"
   ]
  },
  {
   "cell_type": "markdown",
   "metadata": {},
   "source": [
    "# Python Radar chart - Structure"
   ]
  },
  {
   "cell_type": "code",
   "execution_count": 27,
   "metadata": {},
   "outputs": [],
   "source": [
    "import matplotlib.pyplot as plt\n",
    "from math import pi"
   ]
  },
  {
   "cell_type": "code",
   "execution_count": 28,
   "metadata": {},
   "outputs": [],
   "source": [
    "df_0_mean = df_0.describe().iloc[1]\n",
    "df_1_mean = df_1.describe().iloc[1]\n",
    "df_2_mean = df_2.describe().iloc[1]\n",
    "df_3_mean = df_3.describe().iloc[1]"
   ]
  },
  {
   "cell_type": "code",
   "execution_count": 29,
   "metadata": {},
   "outputs": [],
   "source": [
    "df_0 = pd.DataFrame(df_0_mean).T\n",
    "df_1 = pd.DataFrame(df_1_mean).T\n",
    "df_2 = pd.DataFrame(df_2_mean).T\n",
    "df_3 = pd.DataFrame(df_3_mean).T"
   ]
  },
  {
   "cell_type": "code",
   "execution_count": 30,
   "metadata": {},
   "outputs": [],
   "source": [
    "Total_df = pd.concat([df_0,df_1,df_2,df_3])"
   ]
  },
  {
   "cell_type": "code",
   "execution_count": 31,
   "metadata": {},
   "outputs": [],
   "source": [
    "Total_df['predict'] = [1,2,3,4]"
   ]
  },
  {
   "cell_type": "code",
   "execution_count": 32,
   "metadata": {},
   "outputs": [
    {
     "data": {
      "text/html": [
       "<div>\n",
       "<style scoped>\n",
       "    .dataframe tbody tr th:only-of-type {\n",
       "        vertical-align: middle;\n",
       "    }\n",
       "\n",
       "    .dataframe tbody tr th {\n",
       "        vertical-align: top;\n",
       "    }\n",
       "\n",
       "    .dataframe thead th {\n",
       "        text-align: right;\n",
       "    }\n",
       "</style>\n",
       "<table border=\"1\" class=\"dataframe\">\n",
       "  <thead>\n",
       "    <tr style=\"text-align: right;\">\n",
       "      <th></th>\n",
       "      <th>img img img img img</th>\n",
       "      <th>img img img img text</th>\n",
       "      <th>img img img text img</th>\n",
       "      <th>img img text img img</th>\n",
       "      <th>img img text img text</th>\n",
       "      <th>img text img img img</th>\n",
       "      <th>img text img img text</th>\n",
       "      <th>img text img text img</th>\n",
       "      <th>text img img img img</th>\n",
       "      <th>text img img img text</th>\n",
       "      <th>text img img text img</th>\n",
       "      <th>text img text img img</th>\n",
       "      <th>text img text img text</th>\n",
       "      <th>predict</th>\n",
       "    </tr>\n",
       "  </thead>\n",
       "  <tbody>\n",
       "    <tr>\n",
       "      <th>mean</th>\n",
       "      <td>-0.298868</td>\n",
       "      <td>-0.279817</td>\n",
       "      <td>-0.323376</td>\n",
       "      <td>-0.365489</td>\n",
       "      <td>-0.376570</td>\n",
       "      <td>-0.323730</td>\n",
       "      <td>-0.371773</td>\n",
       "      <td>0.618165</td>\n",
       "      <td>-0.276875</td>\n",
       "      <td>-0.229406</td>\n",
       "      <td>-0.403478</td>\n",
       "      <td>-0.342116</td>\n",
       "      <td>0.745073</td>\n",
       "      <td>1</td>\n",
       "    </tr>\n",
       "    <tr>\n",
       "      <th>mean</th>\n",
       "      <td>1.012802</td>\n",
       "      <td>-0.025531</td>\n",
       "      <td>-0.277203</td>\n",
       "      <td>-0.344921</td>\n",
       "      <td>-0.537928</td>\n",
       "      <td>-0.297090</td>\n",
       "      <td>-0.577801</td>\n",
       "      <td>-1.608125</td>\n",
       "      <td>0.000350</td>\n",
       "      <td>-0.190498</td>\n",
       "      <td>-0.527733</td>\n",
       "      <td>-0.601872</td>\n",
       "      <td>-1.536063</td>\n",
       "      <td>2</td>\n",
       "    </tr>\n",
       "    <tr>\n",
       "      <th>mean</th>\n",
       "      <td>0.459709</td>\n",
       "      <td>2.081962</td>\n",
       "      <td>2.409184</td>\n",
       "      <td>1.176610</td>\n",
       "      <td>0.790051</td>\n",
       "      <td>2.519195</td>\n",
       "      <td>0.218480</td>\n",
       "      <td>-0.681896</td>\n",
       "      <td>2.035470</td>\n",
       "      <td>1.542306</td>\n",
       "      <td>0.304552</td>\n",
       "      <td>0.841188</td>\n",
       "      <td>-0.923506</td>\n",
       "      <td>3</td>\n",
       "    </tr>\n",
       "    <tr>\n",
       "      <th>mean</th>\n",
       "      <td>-0.278675</td>\n",
       "      <td>-0.209557</td>\n",
       "      <td>0.024587</td>\n",
       "      <td>1.002838</td>\n",
       "      <td>1.488386</td>\n",
       "      <td>-0.019412</td>\n",
       "      <td>1.861780</td>\n",
       "      <td>-0.111658</td>\n",
       "      <td>-0.220152</td>\n",
       "      <td>0.112294</td>\n",
       "      <td>1.871625</td>\n",
       "      <td>1.400055</td>\n",
       "      <td>-0.509616</td>\n",
       "      <td>4</td>\n",
       "    </tr>\n",
       "  </tbody>\n",
       "</table>\n",
       "</div>"
      ],
      "text/plain": [
       "      img img img img img  img img img img text  img img img text img  \\\n",
       "mean            -0.298868             -0.279817             -0.323376   \n",
       "mean             1.012802             -0.025531             -0.277203   \n",
       "mean             0.459709              2.081962              2.409184   \n",
       "mean            -0.278675             -0.209557              0.024587   \n",
       "\n",
       "      img img text img img  img img text img text  img text img img img  \\\n",
       "mean             -0.365489              -0.376570             -0.323730   \n",
       "mean             -0.344921              -0.537928             -0.297090   \n",
       "mean              1.176610               0.790051              2.519195   \n",
       "mean              1.002838               1.488386             -0.019412   \n",
       "\n",
       "      img text img img text  img text img text img  text img img img img  \\\n",
       "mean              -0.371773               0.618165             -0.276875   \n",
       "mean              -0.577801              -1.608125              0.000350   \n",
       "mean               0.218480              -0.681896              2.035470   \n",
       "mean               1.861780              -0.111658             -0.220152   \n",
       "\n",
       "      text img img img text  text img img text img  text img text img img  \\\n",
       "mean              -0.229406              -0.403478              -0.342116   \n",
       "mean              -0.190498              -0.527733              -0.601872   \n",
       "mean               1.542306               0.304552               0.841188   \n",
       "mean               0.112294               1.871625               1.400055   \n",
       "\n",
       "      text img text img text  predict  \n",
       "mean                0.745073        1  \n",
       "mean               -1.536063        2  \n",
       "mean               -0.923506        3  \n",
       "mean               -0.509616        4  "
      ]
     },
     "execution_count": 32,
     "metadata": {},
     "output_type": "execute_result"
    }
   ],
   "source": [
    "Total_df"
   ]
  },
  {
   "cell_type": "code",
   "execution_count": 33,
   "metadata": {},
   "outputs": [
    {
     "data": {
      "text/plain": [
       "[<matplotlib.patches.Polygon at 0x10eafe9b0>]"
      ]
     },
     "execution_count": 33,
     "metadata": {},
     "output_type": "execute_result"
    },
    {
     "data": {
      "image/png": "[encoded data removed]",
      "text/plain": [
       "<Figure size 432x288 with 1 Axes>"
      ]
     },
     "metadata": {},
     "output_type": "display_data"
    }
   ],
   "source": [
    "import matplotlib.pyplot as plt\n",
    "import pandas as pd\n",
    "from math import pi\n",
    " \n",
    "# ------- PART 1: Create background\n",
    " \n",
    "# number of variable\n",
    "categories=list(Total_df)[:-1]\n",
    "N = len(categories)\n",
    " \n",
    "# What will be the angle of each axis in the plot? (we divide the plot / number of variable)\n",
    "angles = [n / float(N) * 2 * pi for n in range(N)]\n",
    "angles += angles[:1]\n",
    " \n",
    "# Initialise the spider plot\n",
    "ax = plt.subplot(111, polar=True)\n",
    " \n",
    "# If you want the first axis to be on top:\n",
    "ax.set_theta_offset(pi / 2)\n",
    "ax.set_theta_direction(-1)\n",
    " \n",
    "# Draw one axe per variable + add labels labels yet\n",
    "plt.xticks(angles[:-1], categories)\n",
    " \n",
    "# Draw ylabels\n",
    "ax.set_rlabel_position(0)\n",
    "plt.yticks([-3,0,3], [\"-3\",\"0\",\"3\"], color=\"grey\", size=7)\n",
    "plt.ylim(-3,3)\n",
    " \n",
    " \n",
    "# # ------- PART 2: Add plots\n",
    " \n",
    "# Plot each individual = each line of the data\n",
    "# I don't do a loop, because plotting more than 3 groups makes the chart unreadable\n",
    " \n",
    "# Ind1\n",
    "values = Total_df.iloc[0].drop('predict').values.flatten().tolist()\n",
    "values += values[:1]\n",
    "ax.plot(angles, values, linewidth=1, linestyle='solid', label=\"group A\")\n",
    "ax.fill(angles, values, 'b', alpha=0.1)\n",
    " \n",
    "# Ind2\n",
    "values= Total_df.iloc[1].drop('predict').values.flatten().tolist()\n",
    "values += values[:1]\n",
    "ax.plot(angles, values, linewidth=1, linestyle='solid', label=\"group B\")\n",
    "ax.fill(angles, values, 'r', alpha=0.1)\n",
    "\n",
    "# Ind3\n",
    "values= Total_df.iloc[2].drop('predict').values.flatten().tolist()\n",
    "values += values[:1]\n",
    "ax.plot(angles, values, linewidth=1, linestyle='solid', label=\"group B\")\n",
    "ax.fill(angles, values, 'c', alpha=0.1)\n",
    "\n",
    "# Ind4\n",
    "values= Total_df.iloc[3].drop('predict').values.flatten().tolist()\n",
    "values += values[:1]\n",
    "ax.plot(angles, values, linewidth=1, linestyle='solid', label=\"group B\")\n",
    "ax.fill(angles, values, 'm', alpha=0.1)"
   ]
  },
  {
   "cell_type": "markdown",
   "metadata": {},
   "source": [
    "# Python Radar chart - Sentiment"
   ]
  },
  {
   "cell_type": "code",
   "execution_count": 1,
   "metadata": {},
   "outputs": [
    {
     "ename": "NameError",
     "evalue": "name 'scaled_x_df' is not defined",
     "output_type": "error",
     "traceback": [
      "\u001b[0;31m---------------------------------------------------------------------------\u001b[0m",
      "\u001b[0;31mNameError\u001b[0m                                 Traceback (most recent call last)",
      "\u001b[0;32m<ipython-input-1-1d14d6182caa>\u001b[0m in \u001b[0;36m<module>\u001b[0;34m()\u001b[0m\n\u001b[0;32m----> 1\u001b[0;31m scaled_x_sentiment = scaled_x_df[['pos_ratio',\n\u001b[0m\u001b[1;32m      2\u001b[0m  \u001b[0;34m'neg_ratio'\u001b[0m\u001b[0;34m,\u001b[0m\u001b[0;34m\u001b[0m\u001b[0m\n\u001b[1;32m      3\u001b[0m  \u001b[0;34m'subjectivity'\u001b[0m\u001b[0;34m,\u001b[0m\u001b[0;34m\u001b[0m\u001b[0m\n\u001b[1;32m      4\u001b[0m  \u001b[0;34m'polarity'\u001b[0m\u001b[0;34m,\u001b[0m\u001b[0;34m\u001b[0m\u001b[0m\n\u001b[1;32m      5\u001b[0m  'senti_diffs_per_ref',]]\n",
      "\u001b[0;31mNameError\u001b[0m: name 'scaled_x_df' is not defined"
     ]
    }
   ],
   "source": [
    "scaled_x_sentiment = scaled_x_df[['pos_ratio',\n",
    " 'neg_ratio',\n",
    " 'subjectivity',\n",
    " 'polarity',\n",
    " 'senti_diffs_per_ref',]]"
   ]
  },
  {
   "cell_type": "code",
   "execution_count": 2,
   "metadata": {},
   "outputs": [
    {
     "ename": "NameError",
     "evalue": "name 'pd' is not defined",
     "output_type": "error",
     "traceback": [
      "\u001b[0;31m---------------------------------------------------------------------------\u001b[0m",
      "\u001b[0;31mNameError\u001b[0m                                 Traceback (most recent call last)",
      "\u001b[0;32m<ipython-input-2-7577a3d9bd51>\u001b[0m in \u001b[0;36m<module>\u001b[0;34m()\u001b[0m\n\u001b[0;32m----> 1\u001b[0;31m \u001b[0mdf_analysis\u001b[0m \u001b[0;34m=\u001b[0m \u001b[0mpd\u001b[0m\u001b[0;34m.\u001b[0m\u001b[0mconcat\u001b[0m\u001b[0;34m(\u001b[0m\u001b[0;34m[\u001b[0m\u001b[0mscaled_x_sentiment\u001b[0m\u001b[0;34m,\u001b[0m\u001b[0mpredict\u001b[0m\u001b[0;34m,\u001b[0m\u001b[0my\u001b[0m\u001b[0;34m]\u001b[0m\u001b[0;34m,\u001b[0m\u001b[0maxis\u001b[0m\u001b[0;34m=\u001b[0m\u001b[0;36m1\u001b[0m\u001b[0;34m)\u001b[0m\u001b[0;34m\u001b[0m\u001b[0m\n\u001b[0m",
      "\u001b[0;31mNameError\u001b[0m: name 'pd' is not defined"
     ]
    }
   ],
   "source": [
    "df_analysis = pd.concat([scaled_x_sentiment,predict,y],axis=1)"
   ]
  },
  {
   "cell_type": "code",
   "execution_count": 36,
   "metadata": {},
   "outputs": [],
   "source": [
    "df_0 = df_analysis[df_analysis['predict']==0]\n",
    "df_1 = df_analysis[df_analysis['predict']==1]\n",
    "df_2 = df_analysis[df_analysis['predict']==2]\n",
    "df_3 = df_analysis[df_analysis['predict']==3]\n",
    "df_4 = df_analysis[df_analysis['predict']==4]"
   ]
  },
  {
   "cell_type": "code",
   "execution_count": 37,
   "metadata": {},
   "outputs": [],
   "source": [
    "df_0 = df_0.drop(columns=['Credibility','predict'])\n",
    "df_1 = df_1.drop(columns=['Credibility','predict'])\n",
    "df_2 = df_2.drop(columns=['Credibility','predict'])\n",
    "df_3 = df_3.drop(columns=['Credibility','predict'])\n",
    "df_4 = df_4.drop(columns=['Credibility','predict'])"
   ]
  },
  {
   "cell_type": "code",
   "execution_count": 38,
   "metadata": {},
   "outputs": [],
   "source": [
    "import matplotlib.pyplot as plt\n",
    "from math import pi"
   ]
  },
  {
   "cell_type": "code",
   "execution_count": 39,
   "metadata": {},
   "outputs": [],
   "source": [
    "df_0_mean = df_0.describe().iloc[1]\n",
    "df_1_mean = df_1.describe().iloc[1]\n",
    "df_2_mean = df_2.describe().iloc[1]\n",
    "df_3_mean = df_3.describe().iloc[1]"
   ]
  },
  {
   "cell_type": "code",
   "execution_count": 40,
   "metadata": {},
   "outputs": [],
   "source": [
    "df_0 = pd.DataFrame(df_0_mean).T\n",
    "df_1 = pd.DataFrame(df_1_mean).T\n",
    "df_2 = pd.DataFrame(df_2_mean).T\n",
    "df_3 = pd.DataFrame(df_3_mean).T"
   ]
  },
  {
   "cell_type": "code",
   "execution_count": 41,
   "metadata": {},
   "outputs": [],
   "source": [
    "Total_df = pd.concat([df_0,df_1,df_2,df_3])"
   ]
  },
  {
   "cell_type": "code",
   "execution_count": 42,
   "metadata": {},
   "outputs": [],
   "source": [
    "predict_col = pd.DataFrame({'predict':[1,2,3,4]})\n",
    "Total_df['predict'] = [1,2,3,4]"
   ]
  },
  {
   "cell_type": "code",
   "execution_count": 43,
   "metadata": {},
   "outputs": [
    {
     "data": {
      "text/plain": [
       "[<matplotlib.patches.Polygon at 0x10ec36e48>]"
      ]
     },
     "execution_count": 43,
     "metadata": {},
     "output_type": "execute_result"
    },
    {
     "data": {
      "image/png": "[encoded data removed]",
      "text/plain": [
       "<Figure size 432x288 with 1 Axes>"
      ]
     },
     "metadata": {},
     "output_type": "display_data"
    }
   ],
   "source": [
    "import matplotlib.pyplot as plt\n",
    "import pandas as pd\n",
    "from math import pi\n",
    " \n",
    "# ------- PART 1: Create background\n",
    " \n",
    "# number of variable\n",
    "categories=list(Total_df)[:-1]\n",
    "N = len(categories)\n",
    " \n",
    "# What will be the angle of each axis in the plot? (we divide the plot / number of variable)\n",
    "angles = [n / float(N) * 2 * pi for n in range(N)]\n",
    "angles += angles[:1]\n",
    " \n",
    "# Initialise the spider plot\n",
    "ax = plt.subplot(111, polar=True)\n",
    " \n",
    "# If you want the first axis to be on top:\n",
    "ax.set_theta_offset(pi / 2)\n",
    "ax.set_theta_direction(-1)\n",
    " \n",
    "# Draw one axe per variable + add labels labels yet\n",
    "plt.xticks(angles[:-1], categories)\n",
    " \n",
    "# Draw ylabels\n",
    "ax.set_rlabel_position(0)\n",
    "plt.yticks([-0.2,0,0.2], [\"-0.1\",\"0\",\"0.1\"], color=\"grey\", size=7)\n",
    "plt.ylim(-0.2,0.2)\n",
    " \n",
    " \n",
    "# # ------- PART 2: Add plots\n",
    " \n",
    "# Plot each individual = each line of the data\n",
    "# I don't do a loop, because plotting more than 3 groups makes the chart unreadable\n",
    " \n",
    "# Ind1\n",
    "values = Total_df.iloc[0].drop('predict').values.flatten().tolist()\n",
    "values += values[:1]\n",
    "ax.plot(angles, values, linewidth=1, linestyle='solid', label=\"group A\")\n",
    "ax.fill(angles, values, 'b', alpha=0.1)\n",
    " \n",
    "# Ind2\n",
    "values= Total_df.iloc[1].drop('predict').values.flatten().tolist()\n",
    "values += values[:1]\n",
    "ax.plot(angles, values, linewidth=1, linestyle='solid', label=\"group B\")\n",
    "ax.fill(angles, values, 'r', alpha=0.1)\n",
    "\n",
    "# Ind3\n",
    "values= Total_df.iloc[2].drop('predict').values.flatten().tolist()\n",
    "values += values[:1]\n",
    "ax.plot(angles, values, linewidth=1, linestyle='solid', label=\"group B\")\n",
    "ax.fill(angles, values, 'c', alpha=0.1)\n",
    "\n",
    "# Ind4\n",
    "values= Total_df.iloc[3].drop('predict').values.flatten().tolist()\n",
    "values += values[:1]\n",
    "ax.plot(angles, values, linewidth=1, linestyle='solid', label=\"group B\")\n",
    "ax.fill(angles, values, 'm', alpha=0.1)"
   ]
  },
  {
   "cell_type": "markdown",
   "metadata": {},
   "source": [
    "# Python Radar chart - Others"
   ]
  },
  {
   "cell_type": "code",
   "execution_count": 44,
   "metadata": {},
   "outputs": [],
   "source": [
    "scaled_x_others = scaled_x_df[['FR_url',\n",
    " 'Question_count',\n",
    " 'First_ratio',\n",
    " 'Second_ratio',\n",
    " 'Tag_count',\n",
    "'Sticker_count',\n",
    " 'Text_len',\n",
    " 'Count_space_mistake',\n",
    " 'effort_ratio',\n",
    " 'effort_img_ratio',\n",
    " 'Left',\n",
    " 'Center',\n",
    " 'Right',\n",
    " 'Justify']]"
   ]
  },
  {
   "cell_type": "code",
   "execution_count": 45,
   "metadata": {},
   "outputs": [],
   "source": [
    "df_analysis = pd.concat([scaled_x_others,predict,y],axis=1)"
   ]
  },
  {
   "cell_type": "code",
   "execution_count": 46,
   "metadata": {},
   "outputs": [],
   "source": [
    "df_0 = df_analysis[df_analysis['predict']==0]\n",
    "df_1 = df_analysis[df_analysis['predict']==1]\n",
    "df_2 = df_analysis[df_analysis['predict']==2]\n",
    "df_3 = df_analysis[df_analysis['predict']==3]\n",
    "df_4 = df_analysis[df_analysis['predict']==4]"
   ]
  },
  {
   "cell_type": "code",
   "execution_count": 47,
   "metadata": {},
   "outputs": [],
   "source": [
    "df_0 = df_0.drop(columns=['Credibility','predict'])\n",
    "df_1 = df_1.drop(columns=['Credibility','predict'])\n",
    "df_2 = df_2.drop(columns=['Credibility','predict'])\n",
    "df_3 = df_3.drop(columns=['Credibility','predict'])\n",
    "df_4 = df_4.drop(columns=['Credibility','predict'])"
   ]
  },
  {
   "cell_type": "code",
   "execution_count": 48,
   "metadata": {},
   "outputs": [],
   "source": [
    "import matplotlib.pyplot as plt\n",
    "from math import pi"
   ]
  },
  {
   "cell_type": "code",
   "execution_count": 49,
   "metadata": {},
   "outputs": [],
   "source": [
    "df_0_mean = df_0.describe().iloc[1]\n",
    "df_1_mean = df_1.describe().iloc[1]\n",
    "df_2_mean = df_2.describe().iloc[1]\n",
    "df_3_mean = df_3.describe().iloc[1]"
   ]
  },
  {
   "cell_type": "code",
   "execution_count": 50,
   "metadata": {},
   "outputs": [],
   "source": [
    "df_0 = pd.DataFrame(df_0_mean).T\n",
    "df_1 = pd.DataFrame(df_1_mean).T\n",
    "df_2 = pd.DataFrame(df_2_mean).T\n",
    "df_3 = pd.DataFrame(df_3_mean).T"
   ]
  },
  {
   "cell_type": "code",
   "execution_count": 51,
   "metadata": {},
   "outputs": [],
   "source": [
    "Total_df = pd.concat([df_0,df_1,df_2,df_3])"
   ]
  },
  {
   "cell_type": "code",
   "execution_count": 52,
   "metadata": {},
   "outputs": [],
   "source": [
    "predict_col = pd.DataFrame({'predict':[1,2,3,4]})\n",
    "Total_df['predict'] = [1,2,3,4]"
   ]
  },
  {
   "cell_type": "code",
   "execution_count": 53,
   "metadata": {},
   "outputs": [
    {
     "data": {
      "text/plain": [
       "[<matplotlib.patches.Polygon at 0x10ebedcc0>]"
      ]
     },
     "execution_count": 53,
     "metadata": {},
     "output_type": "execute_result"
    },
    {
     "data": {
      "image/png": "[encoded data removed]",
      "text/plain": [
       "<Figure size 432x288 with 1 Axes>"
      ]
     },
     "metadata": {},
     "output_type": "display_data"
    }
   ],
   "source": [
    "import matplotlib.pyplot as plt\n",
    "import pandas as pd\n",
    "from math import pi\n",
    " \n",
    "# ------- PART 1: Create background\n",
    " \n",
    "# number of variable\n",
    "categories=list(Total_df)[:-1]\n",
    "N = len(categories)\n",
    " \n",
    "# What will be the angle of each axis in the plot? (we divide the plot / number of variable)\n",
    "angles = [n / float(N) * 2 * pi for n in range(N)]\n",
    "angles += angles[:1]\n",
    " \n",
    "# Initialise the spider plot\n",
    "ax = plt.subplot(111, polar=True)\n",
    " \n",
    "# If you want the first axis to be on top:\n",
    "ax.set_theta_offset(pi / 2)\n",
    "ax.set_theta_direction(-1)\n",
    " \n",
    "# Draw one axe per variable + add labels labels yet\n",
    "plt.xticks(angles[:-1], categories)\n",
    " \n",
    "# Draw ylabels\n",
    "ax.set_rlabel_position(0)\n",
    "plt.yticks([-0.5,0,5], [\"-0.5\",\"0\",\"0.5\"], color=\"grey\", size=7)\n",
    "plt.ylim(-0.5,0.5)\n",
    " \n",
    " \n",
    "# # ------- PART 2: Add plots\n",
    " \n",
    "# Plot each individual = each line of the data\n",
    "# I don't do a loop, because plotting more than 3 groups makes the chart unreadable\n",
    " \n",
    "# Ind1\n",
    "values = Total_df.iloc[0].drop('predict').values.flatten().tolist()\n",
    "values += values[:1]\n",
    "ax.plot(angles, values, linewidth=1, linestyle='solid', label=\"group A\")\n",
    "ax.fill(angles, values, 'b', alpha=0.1)\n",
    " \n",
    "# Ind2\n",
    "values= Total_df.iloc[1].drop('predict').values.flatten().tolist()\n",
    "values += values[:1]\n",
    "ax.plot(angles, values, linewidth=1, linestyle='solid', label=\"group B\")\n",
    "ax.fill(angles, values, 'r', alpha=0.1)\n",
    "\n",
    "# Ind3\n",
    "values= Total_df.iloc[2].drop('predict').values.flatten().tolist()\n",
    "values += values[:1]\n",
    "ax.plot(angles, values, linewidth=1, linestyle='solid', label=\"group B\")\n",
    "ax.fill(angles, values, 'c', alpha=0.1)\n",
    "\n",
    "# Ind4\n",
    "values= Total_df.iloc[3].drop('predict').values.flatten().tolist()\n",
    "values += values[:1]\n",
    "ax.plot(angles, values, linewidth=1, linestyle='solid', label=\"group B\")\n",
    "ax.fill(angles, values, 'm', alpha=0.1)"
   ]
  }
 ],
 "metadata": {
  "kernelspec": {
   "display_name": "Python 3",
   "language": "python",
   "name": "python3"
  },
  "language_info": {
   "codemirror_mode": {
    "name": "ipython",
    "version": 3
   },
   "file_extension": ".py",
   "mimetype": "text/x-python",
   "name": "python",
   "nbconvert_exporter": "python",
   "pygments_lexer": "ipython3",
   "version": "3.6.6"
  }
 },
 "nbformat": 4,
 "nbformat_minor": 2
}
